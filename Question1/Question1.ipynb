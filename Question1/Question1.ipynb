{
 "cells": [
  {
   "cell_type": "code",
   "execution_count": 29,
   "metadata": {},
   "outputs": [],
   "source": [
    "import numpy as np\n",
    "import matplotlib.pyplot as plt\n",
    "%matplotlib inline\n",
    "\n",
    "class Maze:\n",
    "    def __init__(self, matrix):\n",
    "        self.map = matrix\n",
    "        self.size = matrix.shape[0]\n",
    "        \n",
    "    def isBlock(self,row, col):\n",
    "        if self.map[row,col] == 1:\n",
    "            return True\n",
    "        else:\n",
    "            return False\n",
    "    \n",
    "    \n",
    "    def observe_black_cells(self, row, col):\n",
    "        cells = 0\n",
    "        if self.isBlock(row+1, col):\n",
    "            cells += 1\n",
    "        if self.isBlock(row-1, col):\n",
    "            cells += 1\n",
    "        if self.isBlock(row, col+1):\n",
    "            cells += 1\n",
    "        if self.isBlock(row, col-1):\n",
    "            cells += 1\n",
    "        if self.isBlock(row-1, col-1):\n",
    "            cells += 1\n",
    "        if self.isBlock(row+1, col-1):\n",
    "            cells += 1\n",
    "        if self.isBlock(row-1, col+1):\n",
    "            cells += 1\n",
    "        if self.isBlock(row+1, col+1):\n",
    "            cells += 1\n",
    "        return cells\n",
    "    \n",
    "    def moveLeft(self, row, col):\n",
    "        if not self.isblock(row, col-1):\n",
    "            self.col -= 1\n",
    "            \n",
    "    def moveRight(self, row, col):\n",
    "        if not self.isblock(row, col+1):\n",
    "            self.col +=1\n",
    "            \n",
    "    def moveUp(self, row, col):\n",
    "        if not self.isblock(row-1, col):\n",
    "            self.row -=1\n",
    "            \n",
    "    def moveDown(self, row, col):\n",
    "        if not self.isblock(row+1, col):\n",
    "            self.row +=1"
   ]
  },
  {
   "cell_type": "code",
   "execution_count": 70,
   "metadata": {},
   "outputs": [
    {
     "data": {
      "image/png": "[encoded data removed]",
      "text/plain": [
       "<matplotlib.figure.Figure at 0x10984abe0>"
      ]
     },
     "metadata": {},
     "output_type": "display_data"
    }
   ],
   "source": [
    "matrix = np.loadtxt('Maze.txt', usecols=range(37))\n",
    "maze = Maze(matrix)\n",
    "plt.imshow(maze.map,cmap=\"binary\")\n",
    "plt.show()"
   ]
  },
  {
   "cell_type": "code",
   "execution_count": 72,
   "metadata": {},
   "outputs": [],
   "source": [
    "cells = []\n",
    "for x in range(maze.size):\n",
    "    for y in range(maze.size):\n",
    "        if not maze.isBlock(x,y):\n",
    "            if maze.observe_black_cells(x,y) == 5:\n",
    "                cells.append((x,y))\n",
    "\n",
    "copy_cells = cells.copy()\n",
    "for i in copy_cells:\n",
    "    if maze.observe_black_cells(i[0],i[1]-1) != 5:\n",
    "        cells.remove((i[0],i[1]))\n",
    "        \n",
    "copy_cells = cells.copy()\n",
    "for i in copy_cells:\n",
    "    if maze.observe_black_cells(i[0],i[1]-2) != 5:\n",
    "        cells.remove((i[0],i[1]))"
   ]
  },
  {
   "cell_type": "code",
   "execution_count": 73,
   "metadata": {},
   "outputs": [
    {
     "data": {
      "text/plain": [
       "[(1, 7),\n",
       " (1, 19),\n",
       " (1, 31),\n",
       " (2, 1),\n",
       " (3, 6),\n",
       " (3, 7),\n",
       " (3, 8),\n",
       " (3, 18),\n",
       " (3, 19),\n",
       " (3, 20),\n",
       " (3, 30),\n",
       " (3, 31),\n",
       " (3, 32),\n",
       " (9, 6),\n",
       " (9, 7),\n",
       " (9, 8),\n",
       " (9, 18),\n",
       " (9, 19),\n",
       " (9, 20),\n",
       " (9, 30),\n",
       " (9, 31),\n",
       " (9, 32),\n",
       " (10, 1),\n",
       " (13, 7),\n",
       " (13, 19),\n",
       " (13, 31),\n",
       " (14, 1),\n",
       " (15, 6),\n",
       " (15, 7),\n",
       " (15, 8),\n",
       " (15, 18),\n",
       " (15, 19),\n",
       " (15, 20),\n",
       " (15, 30),\n",
       " (15, 31),\n",
       " (15, 32),\n",
       " (21, 6),\n",
       " (21, 7),\n",
       " (21, 8),\n",
       " (21, 18),\n",
       " (21, 19),\n",
       " (21, 20),\n",
       " (21, 30),\n",
       " (21, 31),\n",
       " (21, 32),\n",
       " (22, 1),\n",
       " (25, 7),\n",
       " (25, 19),\n",
       " (25, 31),\n",
       " (26, 1),\n",
       " (27, 6),\n",
       " (27, 7),\n",
       " (27, 8),\n",
       " (27, 18),\n",
       " (27, 19),\n",
       " (27, 20),\n",
       " (27, 30),\n",
       " (27, 31),\n",
       " (27, 32),\n",
       " (33, 6),\n",
       " (33, 7),\n",
       " (33, 8),\n",
       " (33, 18),\n",
       " (33, 19),\n",
       " (33, 20),\n",
       " (33, 30),\n",
       " (33, 31),\n",
       " (33, 32),\n",
       " (34, 1)]"
      ]
     },
     "execution_count": 73,
     "metadata": {},
     "output_type": "execute_result"
    }
   ],
   "source": [
    "cells"
   ]
  },
  {
   "cell_type": "code",
   "execution_count": 52,
   "metadata": {},
   "outputs": [
    {
     "data": {
      "text/plain": [
       "6"
      ]
     },
     "execution_count": 52,
     "metadata": {},
     "output_type": "execute_result"
    }
   ],
   "source": [
    "maze.observe_black_cells(1,16)"
   ]
  },
  {
   "cell_type": "code",
   "execution_count": null,
   "metadata": {},
   "outputs": [],
   "source": []
  }
 ],
 "metadata": {
  "kernelspec": {
   "display_name": "Python 3",
   "language": "python",
   "name": "python3"
  },
  "language_info": {
   "codemirror_mode": {
    "name": "ipython",
    "version": 3
   },
   "file_extension": ".py",
   "mimetype": "text/x-python",
   "name": "python",
   "nbconvert_exporter": "python",
   "pygments_lexer": "ipython3",
   "version": "3.6.4"
  }
 },
 "nbformat": 4,
 "nbformat_minor": 2
}
